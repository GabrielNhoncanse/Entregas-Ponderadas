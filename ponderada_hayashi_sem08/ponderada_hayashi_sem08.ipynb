{
  "nbformat": 4,
  "nbformat_minor": 0,
  "metadata": {
    "colab": {
      "provenance": []
    },
    "kernelspec": {
      "name": "python3",
      "display_name": "Python 3"
    },
    "language_info": {
      "name": "python"
    }
  },
  "cells": [
    {
      "cell_type": "code",
      "execution_count": 33,
      "metadata": {
        "id": "JPGNLz79Csy5"
      },
      "outputs": [],
      "source": [
        "from google.colab import drive\n",
        "import pandas as pd\n",
        "import random\n",
        "import matplotlib.pyplot as plt\n",
        "import seaborn as sns\n",
        "\n",
        "from glob import glob\n",
        "\n",
        "import zipfile\n",
        "import os\n",
        "\n",
        "import json"
      ]
    },
    {
      "cell_type": "code",
      "source": [
        "drive.mount('/content/drive')"
      ],
      "metadata": {
        "colab": {
          "base_uri": "https://localhost:8080/"
        },
        "id": "XEqCU1DpDfgD",
        "outputId": "5da7d01c-d096-4089-ec11-f1bc771743ea"
      },
      "execution_count": 3,
      "outputs": [
        {
          "output_type": "stream",
          "name": "stdout",
          "text": [
            "Mounted at /content/drive\n"
          ]
        }
      ]
    },
    {
      "cell_type": "markdown",
      "source": [
        "# importação dos dados"
      ],
      "metadata": {
        "id": "Qhij_7CtCxPl"
      }
    },
    {
      "cell_type": "code",
      "source": [
        "dir_path = \"/content/drive/MyDrive/ponderada-hayashi-sem08/\"\n",
        "\n",
        "os.listdir(dir_path)"
      ],
      "metadata": {
        "colab": {
          "base_uri": "https://localhost:8080/"
        },
        "id": "RNxqgPHeDe6V",
        "outputId": "4a1d8758-4746-4733-9e12-07f1f4f38aba"
      },
      "execution_count": 10,
      "outputs": [
        {
          "output_type": "execute_result",
          "data": {
            "text/plain": [
              "['images.zip', 'keypoints.json']"
            ]
          },
          "metadata": {},
          "execution_count": 10
        }
      ]
    },
    {
      "cell_type": "markdown",
      "source": [
        "## Unzip file"
      ],
      "metadata": {
        "id": "6eh_pqgHE-TP"
      }
    },
    {
      "cell_type": "code",
      "source": [
        "zip_path = dir_path + \"images.zip\"\n",
        "\n",
        "if(True): # alterar AQUI caso queira que zip seja extraído\n",
        "  with zipfile.ZipFile(zip_path, 'r') as zip_ref:\n",
        "      zip_ref.extractall(dir_path)\n",
        "      print(\"Arquivo ZIP descompactado com sucesso.\")"
      ],
      "metadata": {
        "colab": {
          "base_uri": "https://localhost:8080/"
        },
        "id": "O0CUPmwCD4zC",
        "outputId": "d045bb47-1767-4246-d174-6bae1e739e71"
      },
      "execution_count": 11,
      "outputs": [
        {
          "output_type": "stream",
          "name": "stdout",
          "text": [
            "Arquivo ZIP descompactado com sucesso.\n"
          ]
        }
      ]
    },
    {
      "cell_type": "code",
      "source": [
        "os.listdir(dir_path)"
      ],
      "metadata": {
        "colab": {
          "base_uri": "https://localhost:8080/"
        },
        "id": "iwTu81iOFEPG",
        "outputId": "9699a5c5-d0a7-4f4d-b636-ecc12ed4744c"
      },
      "execution_count": 12,
      "outputs": [
        {
          "output_type": "execute_result",
          "data": {
            "text/plain": [
              "['images.zip', 'keypoints.json', 'images']"
            ]
          },
          "metadata": {},
          "execution_count": 12
        }
      ]
    },
    {
      "cell_type": "markdown",
      "source": [
        "# Análise exploratória"
      ],
      "metadata": {
        "id": "hv9wkE5QKa3_"
      }
    },
    {
      "cell_type": "markdown",
      "source": [
        "## Leitura dos dados"
      ],
      "metadata": {
        "id": "A-kjcwHkM6Dz"
      }
    },
    {
      "cell_type": "code",
      "source": [
        "images_path = \"/content/drive/MyDrive/ponderada-hayashi-sem08/images/*\""
      ],
      "metadata": {
        "id": "HZAq0Mf3LNeB"
      },
      "execution_count": 22,
      "outputs": []
    },
    {
      "cell_type": "code",
      "source": [
        "with open(dir_path + 'keypoints.json') as j:\n",
        "    data = json.load(j)\n",
        "\n",
        "categories = pd.DataFrame(data['categories'])\n",
        "annotations = pd.DataFrame(data['annotations']).merge(categories[['id', 'name']], left_on='category_id', right_on='id')\n",
        "\n",
        "print(\"Dados sobre anotações:\\n\")\n",
        "print(annotations.head())\n",
        "\n",
        "print(\"Dados sobre as categorias disponíveis:\\n\")\n",
        "print(categories['name'])"
      ],
      "metadata": {
        "colab": {
          "base_uri": "https://localhost:8080/"
        },
        "id": "dLUqGO0TLBBk",
        "outputId": "47c8e58c-0755-4b3e-9c8e-006d06ecf04c"
      },
      "execution_count": 38,
      "outputs": [
        {
          "output_type": "stream",
          "name": "stdout",
          "text": [
            "Dados sobre anotações:\n",
            "\n",
            "   image_id                  bbox  \\\n",
            "0         1  [123, 115, 379, 275]   \n",
            "1        11  [217, 118, 305, 263]   \n",
            "2        21  [100, 212, 303, 414]   \n",
            "3        22   [108, 60, 320, 160]   \n",
            "4        22  [228, 138, 381, 375]   \n",
            "\n",
            "                                           keypoints  num_keypoints  \\\n",
            "0  [[193, 216, 1], [160, 217, 1], [174, 261, 1], ...             20   \n",
            "1  [[277, 134, 1], [255, 135, 1], [272, 148, 1], ...             20   \n",
            "2  [[186, 255, 1], [133, 258, 1], [136, 290, 1], ...             20   \n",
            "3  [[305, 79, 1], [282, 84, 1], [310, 109, 1], [3...             20   \n",
            "4  [[270, 177, 1], [243, 166, 1], [236, 207, 1], ...             20   \n",
            "\n",
            "   category_id  id name  \n",
            "0            1   1  dog  \n",
            "1            1   1  dog  \n",
            "2            1   1  dog  \n",
            "3            1   1  dog  \n",
            "4            1   1  dog  \n",
            "Dados sobre as categorias disponíveis:\n",
            "\n",
            "0      dog\n",
            "1      cat\n",
            "2    sheep\n",
            "3    horse\n",
            "4      cow\n",
            "Name: name, dtype: object\n"
          ]
        }
      ]
    },
    {
      "cell_type": "markdown",
      "source": [
        "Pode-se verificar que existem 5 classes possíveis, dog, cat, sheep, horse e cow"
      ],
      "metadata": {
        "id": "b0zmTT5WO-RU"
      }
    },
    {
      "cell_type": "markdown",
      "source": [
        "## Quantidade de imagens"
      ],
      "metadata": {
        "id": "-YQFLCI0M7-0"
      }
    },
    {
      "cell_type": "code",
      "source": [
        "count = 0\n",
        "\n",
        "for path in glob(images_path):\n",
        "  count += 1\n",
        "\n",
        "print(\"Quantidade total de images:\", count)"
      ],
      "metadata": {
        "colab": {
          "base_uri": "https://localhost:8080/"
        },
        "id": "GXwWJnQTKdH-",
        "outputId": "5e23d89e-6519-4e09-bdc4-f9f8fed454d2"
      },
      "execution_count": 42,
      "outputs": [
        {
          "output_type": "stream",
          "name": "stdout",
          "text": [
            "Quantidade total de images: 4608\n"
          ]
        }
      ]
    },
    {
      "cell_type": "code",
      "source": [
        "# Contagem de imagens por categoria\n",
        "images_per_category = annotations['name'].value_counts()\n",
        "\n",
        "# Gráfico de contagem de imagens por categoria\n",
        "plt.title('Imagens por categorias')\n",
        "plt.xlabel('Categoria')\n",
        "plt.ylabel('Número total de Imagens')\n",
        "sns.barplot(x=images_per_category.index, y=images_per_category.values)\n",
        "plt.show()"
      ],
      "metadata": {
        "colab": {
          "base_uri": "https://localhost:8080/",
          "height": 472
        },
        "id": "xl3hWvt0MiWp",
        "outputId": "33a1821e-8c9f-4442-f981-202c9e958d20"
      },
      "execution_count": 55,
      "outputs": [
        {
          "output_type": "display_data",
          "data": {
            "text/plain": [
              "<Figure size 640x480 with 1 Axes>"
            ],
            "image/png": "[encoded data removed]"
          },
          "metadata": {}
        }
      ]
    },
    {
      "cell_type": "code",
      "source": [
        "# Número de imagens de bovinos (vacas)\n",
        "num_cows = images_per_category.get('cow')\n",
        "print(f\"Número total de imagens de bovinos:\", num_cows)\n",
        "num_dogs = images_per_category.get('dog')\n",
        "print(f\"Número total de imagens de cachorros:\", num_dogs)\n",
        "num_cats = images_per_category.get('cat')\n",
        "print(f\"Número total de imagens de gatos:\", num_cats)\n",
        "num_sheeps = images_per_category.get('sheep')\n",
        "print(f\"Número total de imagens de ovelhas:\", num_sheeps)\n",
        "num_horses = images_per_category.get('horse')\n",
        "print(f\"Número total de imagens de cavalos:\", num_horses)"
      ],
      "metadata": {
        "colab": {
          "base_uri": "https://localhost:8080/"
        },
        "id": "aq6mtsOKOZux",
        "outputId": "a085b882-4a9c-46bc-a0c7-1c1157c46a07"
      },
      "execution_count": 62,
      "outputs": [
        {
          "output_type": "stream",
          "name": "stdout",
          "text": [
            "Número total de imagens de bovinos: 842\n",
            "Número total de imagens de cachorros: 1771\n",
            "Número total de imagens de gatos: 1466\n",
            "Número total de imagens de ovelhas: 1078\n",
            "Número total de imagens de cavalos: 960\n"
          ]
        }
      ]
    },
    {
      "cell_type": "markdown",
      "source": [
        "Assim conclui-se que, de 4608 imagens totais presentes no dataset, 842 são de bovinos(vacas), 1771 de cachorros, 1466 de gatos, 1078 de ovelhas e 960 de cavalos"
      ],
      "metadata": {
        "id": "2LMd6tJyOa9F"
      }
    }
  ]
}