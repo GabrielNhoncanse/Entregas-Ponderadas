{
  "nbformat": 4,
  "nbformat_minor": 0,
  "metadata": {
    "colab": {
      "provenance": []
    },
    "kernelspec": {
      "name": "python3",
      "display_name": "Python 3"
    },
    "language_info": {
      "name": "python"
    }
  },
  "cells": [
    {
      "cell_type": "markdown",
      "source": [
        "# Criação do grid"
      ],
      "metadata": {
        "id": "W_Mk2E_FXRGT"
      }
    },
    {
      "cell_type": "code",
      "source": [
        "import random\n",
        "import numpy as np"
      ],
      "metadata": {
        "id": "foVVfwF3M-q3"
      },
      "execution_count": null,
      "outputs": []
    },
    {
      "cell_type": "code",
      "source": [
        "def generate_random_coordinates(positions):\n",
        "  coordinates = []\n",
        "  for _ in range(positions):\n",
        "    x = random.randint(0, 7)\n",
        "    y = random.randint(0, 7)\n",
        "    coordinates.append([x,y])\n",
        "  return coordinates"
      ],
      "metadata": {
        "id": "FU0djfNTEr2V"
      },
      "execution_count": null,
      "outputs": []
    },
    {
      "cell_type": "code",
      "source": [
        "valueGrid =  [[0 for _ in range(8)]for _ in range(8)]\n",
        "\n",
        "mountains = [[1,3],[2,5],[2,1],[3,7],[4,0],[5,1],[5,4],[6,7],[7,1],[7,5]]\n",
        "\n",
        "sands = [[0, 1], [6,1], [5, 7], [5, 0], [5, 4], [2, 3], [7, 3], [5, 6], [3, 7], [3, 3], [0, 3], [6, 0], [1, 6], [0, 7]]"
      ],
      "metadata": {
        "id": "Cr3YakvXlw63"
      },
      "execution_count": null,
      "outputs": []
    },
    {
      "cell_type": "markdown",
      "source": [
        "# Populando o grid\n",
        "## Com o valor esperado de cada estado segundo a equação de Bellman"
      ],
      "metadata": {
        "id": "IMwf8grYOJKk"
      }
    },
    {
      "cell_type": "code",
      "source": [
        "def possible_moves(x, y):\n",
        "  moves = []\n",
        "  if(x == 0):\n",
        "    if(y == 0):\n",
        "      moves = [\"Down\", \"Right\"]\n",
        "    elif(y == 7):\n",
        "      moves = [\"Up\", \"Right\"]\n",
        "    else: moves = [\"Up\", \"Down\", \"Right\"]\n",
        "  elif(x == 7):\n",
        "    if(y == 0):\n",
        "      moves = [\"Down\", \"Left\"]\n",
        "    elif(y == 7):\n",
        "      moves = [\"Up\", \"Left\"]\n",
        "    else: moves = [\"Up\", \"Down\", \"Left\"]\n",
        "  elif(y == 0):\n",
        "    moves = [\"Down\", \"Right\", \"Left\"]\n",
        "  elif(y == 7):\n",
        "    moves = [\"Up\", \"Right\", \"Left\"]\n",
        "  else: moves = [\"Up\", \"Down\", \"Right\", \"Left\"]\n",
        "  return moves\n",
        "\n",
        "def move(direction, x, y):\n",
        "  if(direction == \"Right\"):\n",
        "    x += 1\n",
        "  elif(direction == \"Left\"):\n",
        "    x -= 1\n",
        "  elif(direction == \"Up\"):\n",
        "    y -= 1\n",
        "  elif(direction == \"Down\"):\n",
        "    y += 1\n",
        "  return x,y"
      ],
      "metadata": {
        "id": "Dv4vhG4qsKxo"
      },
      "execution_count": null,
      "outputs": []
    },
    {
      "cell_type": "code",
      "source": [
        "def bellman_update(x, y, valueGrid, gamma=0.9, goal_reward=100, sand_reward=-10, step_reward=-1):\n",
        "    if x == 7 and y == 7:\n",
        "        return goal_reward\n",
        "    elif is_mountain(x, y, mountains):\n",
        "        return -np.inf\n",
        "    elif is_sand(x, y, sands):\n",
        "        return sand_reward\n",
        "    else:\n",
        "        new_value = 0\n",
        "        for action in possible_moves(x, y):\n",
        "            new_x, new_y = move(action, x, y)\n",
        "            if not is_mountain(new_x, new_y, mountains):\n",
        "              if(is_sand(new_x, new_y, sands)):\n",
        "                new_value += (1 / len(possible_moves(x, y))) * ((sand_reward + step_reward) + gamma * valueGrid[new_y][new_x])\n",
        "              else: new_value += (1 / len(possible_moves(x, y))) * ((step_reward) + gamma * valueGrid[new_y][new_x])\n",
        "        return round(new_value, 2)\n",
        "\n",
        "def value_iteration( valueGrid, epsilon=1e-6):\n",
        "  while True:\n",
        "    delta = 0\n",
        "    for y in range(8):\n",
        "      for x in range(8):\n",
        "        old_value = valueGrid[y][x]\n",
        "        new_value = bellman_update(x, y, valueGrid)\n",
        "        valueGrid[y][x] = new_value\n",
        "        delta = max(delta, abs(new_value - old_value))\n",
        "    if delta < epsilon:\n",
        "      break"
      ],
      "metadata": {
        "id": "qRQd6sH5IyId"
      },
      "execution_count": null,
      "outputs": []
    },
    {
      "cell_type": "code",
      "source": [
        "def is_mountain(x,y, mountains):\n",
        "  return [x,y] in mountains\n",
        "\n",
        "def is_sand(x, y, sands):\n",
        "    return (x, y) in sands"
      ],
      "metadata": {
        "id": "wsZchYcQBp71"
      },
      "execution_count": null,
      "outputs": []
    },
    {
      "cell_type": "code",
      "source": [
        "value_iteration(valueGrid)"
      ],
      "metadata": {
        "id": "_YNCHXN8LNz1"
      },
      "execution_count": null,
      "outputs": []
    },
    {
      "cell_type": "markdown",
      "source": [
        "#  Função para visualização do grid"
      ],
      "metadata": {
        "id": "qEdpSF36XZH0"
      }
    },
    {
      "cell_type": "code",
      "source": [
        "valueGrid #antes da atualização de valores"
      ],
      "metadata": {
        "colab": {
          "base_uri": "https://localhost:8080/"
        },
        "id": "g_KvQjPjl1HZ",
        "outputId": "1b57ff40-2b38-4d1d-845c-6fb67e70f43d"
      },
      "execution_count": null,
      "outputs": [
        {
          "output_type": "execute_result",
          "data": {
            "text/plain": [
              "[[-5.28, -4.48, -2.69, -2.28, -inf, -1.03, -2.33, -1.55],\n",
              " [-5.03, -3.63, -inf, -2.7, -2.05, -inf, -1.86, -inf],\n",
              " [-4.52, -3.3, -3.2, -4.33, -4.21, -3.3, -3.72, -2.93],\n",
              " [-3.41, -inf, -3.25, -4.71, -4.58, -3.42, -3.98, -3.82],\n",
              " [-4.64, -3.39, -3.21, -4.31, -3.58, -inf, -2.29, -2.5],\n",
              " [-5.35, -3.88, -inf, -3.22, -3.7, -1.94, -0.38, -inf],\n",
              " [-5.99, -5.17, -3.31, -2.95, -3.25, -1.22, 5.89, 31.1],\n",
              " [-6.11, -5.37, -3.27, -inf, -2.15, -1.68, -inf, 100]]"
            ]
          },
          "metadata": {},
          "execution_count": 528
        }
      ]
    },
    {
      "cell_type": "code",
      "source": [
        "valueGrid #após a atualização de valores"
      ],
      "metadata": {
        "id": "f4djVFdPBVnG",
        "colab": {
          "base_uri": "https://localhost:8080/"
        },
        "outputId": "4a2f3f2e-357d-48c0-b427-a940a785a793"
      },
      "execution_count": null,
      "outputs": [
        {
          "output_type": "execute_result",
          "data": {
            "text/plain": [
              "[[-5.28, -4.48, -2.69, -2.28, -inf, -1.03, -2.33, -1.55],\n",
              " [-5.03, -3.63, -inf, -2.7, -2.05, -inf, -1.86, -inf],\n",
              " [-4.52, -3.3, -3.2, -4.33, -4.21, -3.3, -3.72, -2.93],\n",
              " [-3.41, -inf, -3.25, -4.71, -4.58, -3.42, -3.98, -3.82],\n",
              " [-4.64, -3.39, -3.21, -4.31, -3.58, -inf, -2.29, -2.5],\n",
              " [-5.35, -3.88, -inf, -3.22, -3.7, -1.94, -0.38, -inf],\n",
              " [-5.99, -5.17, -3.31, -2.95, -3.25, -1.22, 5.89, 31.1],\n",
              " [-6.11, -5.37, -3.27, -inf, -2.15, -1.68, -inf, 100]]"
            ]
          },
          "metadata": {},
          "execution_count": 529
        }
      ]
    },
    {
      "cell_type": "markdown",
      "source": [
        "# Função com o conjunto de ações que o agente pode realizar"
      ],
      "metadata": {
        "id": "OAHLqfSKZ0a5"
      }
    },
    {
      "cell_type": "code",
      "source": [
        "class Agente:\n",
        "    def __init__(self):\n",
        "        self.x = 0\n",
        "        self.y = 0\n",
        "\n",
        "    def find_greedy_route(self, grid):\n",
        "        route = []\n",
        "        while (self.x, self.y) != (7, 7):\n",
        "            best_value = -float('inf')\n",
        "            best_direction = None\n",
        "            for action in possible_moves(self.x, self.y):\n",
        "                new_x, new_y = move(action, self.x, self.y)\n",
        "                if grid[new_y][new_x] > best_value and (not route or action != opposite(route[-1])):\n",
        "                    best_value = grid[new_y][new_x]\n",
        "                    best_direction = action\n",
        "            route.append(best_direction)\n",
        "            self.x, self.y = move(best_direction, self.x, self.y)\n",
        "        return route\n",
        "\n",
        "def opposite(action):\n",
        "    if action == \"Up\":\n",
        "        return \"Down\"\n",
        "    elif action == \"Down\":\n",
        "        return \"Up\"\n",
        "    elif action == \"Left\":\n",
        "        return \"Right\"\n",
        "    elif action == \"Right\":\n",
        "        return \"Left\"\n",
        "    else:\n",
        "        return None"
      ],
      "metadata": {
        "id": "pEIylPKeZ-JZ"
      },
      "execution_count": null,
      "outputs": []
    },
    {
      "cell_type": "markdown",
      "source": [
        "# Comparação de rotas\n"
      ],
      "metadata": {
        "id": "2643VodM8X3r"
      }
    },
    {
      "cell_type": "code",
      "source": [
        "def calculate_route_sum(grid, route):\n",
        "  y, x = 0, 0  # Começando do canto superior esquerdo do grid\n",
        "  total_sum = grid[0][0]\n",
        "\n",
        "  for move in route:\n",
        "    if move == \"Right\":\n",
        "      x += 1\n",
        "    elif move == \"Down\":\n",
        "      y += 1\n",
        "    total_sum += grid[y][x]\n",
        "  return total_sum"
      ],
      "metadata": {
        "id": "Od9pvd2hDbvW"
      },
      "execution_count": null,
      "outputs": []
    },
    {
      "cell_type": "code",
      "source": [
        "agente = Agente()\n",
        "route1 = agente.find_greedy_route(valueGrid)\n",
        "calculate_route_sum(valueGrid, route1)"
      ],
      "metadata": {
        "id": "To47Kdu88ZRk",
        "colab": {
          "base_uri": "https://localhost:8080/"
        },
        "outputId": "39c40fc8-8c40-47f7-fc2b-22ee09b1f0e0"
      },
      "execution_count": null,
      "outputs": [
        {
          "output_type": "execute_result",
          "data": {
            "text/plain": [
              "99.93"
            ]
          },
          "metadata": {},
          "execution_count": 535
        }
      ]
    },
    {
      "cell_type": "code",
      "source": [
        "route2 = [\"Right\", \"Down\", \"Down\", \"Right\", \"Right\", \"Right\", \"Down\", \"Down\", \"Down\", \"Right\", \"Right\", \"Down\", \"Right\", \"Down\"]\n",
        "\n",
        "calculate_route_sum(valueGrid, route2)"
      ],
      "metadata": {
        "colab": {
          "base_uri": "https://localhost:8080/"
        },
        "id": "qNGrLMEkAmWc",
        "outputId": "ed725dfd-98eb-49fb-ec14-0ff1721fcca5"
      },
      "execution_count": null,
      "outputs": [
        {
          "output_type": "execute_result",
          "data": {
            "text/plain": [
              "94.38"
            ]
          },
          "metadata": {},
          "execution_count": 533
        }
      ]
    },
    {
      "cell_type": "markdown",
      "source": [
        "Portanto, vemos que a rota1, calculada a partir de uma política gulosa que decidia qual ação tomar com base no maior valor possível de estado em que poderia alcançar no momento, possui uma recompensa maior do que a rota2, definida manualmente a fim de exemplo"
      ],
      "metadata": {
        "id": "53BZJFmLDxtS"
      }
    }
  ]
}